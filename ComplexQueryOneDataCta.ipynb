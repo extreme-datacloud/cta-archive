{
 "cells": [
  {
   "cell_type": "code",
   "execution_count": null,
   "metadata": {},
   "outputs": [],
   "source": [
    "import requests\n",
    "import shutil\n",
    "requests.packages.urllib3.disable_warnings()\n",
    "from ipywidgets import interact, interactive, fixed, interact_manual, Layout\n",
    "import ipywidgets as widgets"
   ]
  },
  {
   "cell_type": "code",
   "execution_count": null,
   "metadata": {},
   "outputs": [],
   "source": [
    "token=\"MDAxNWxvY2F00aW9uIG9uZXpvbmUKMDAzMGlkZW500aWZpZXIgOTIzNDBmZjkyYTI1Y2RjZTlhM2ZmMWIyYTE5MGJjMGEKMDAxYWNpZCB00aW1lIDwgMTU3NTM4MDY00MwowMDJmc2lnbmF00dXJlIGnMtasbKyvaMI84gZo0061QqELeHb1KJBFJulqOmTdBsCg\"\n",
    "host=\"lapp-xdc01.in2p3.fr\"\n",
    "space=\"615307e1c80add12526796e5fc197cad\"\n",
    "startRangeFilter=\"[1467294695, null, null, null, null, null]\"\n",
    "endRangeFilter=\"[1467294695, null, null, null, null, null]\"\n",
    "resultBoxQuery=widgets.Text( disabled=True)\n",
    "resultBoxRetrieve=widgets.Text( disabled=True)\n"
   ]
  },
  {
   "cell_type": "code",
   "execution_count": null,
   "metadata": {},
   "outputs": [],
   "source": [
    "def query(startRangeFilter, endRangeFilter):\n",
    "    queryUrl = \"https://\"+host+\"/api/v3/oneprovider/spaces/\"+space+\"/indexes/SimulationIndex/query?\"\n",
    "    queryParam = {'spatial': 'true','start_range': startRangeFilter,'end_range': endRangeFilter}\n",
    "    queryHeaders = {'X-Auth-Token': token,\"Content-type\": \"application/json\"}\n",
    "    queryResponse = requests.request(\"GET\", queryUrl,  headers=queryHeaders, params=queryParam, verify=False)\n",
    "    resultBoxQuery.value=\"number of file return : \"+str(len(queryResponse.json()))\n",
    "    #print (queryResponse.json())\n",
    "    return (queryResponse.json())\n"
   ]
  },
  {
   "cell_type": "code",
   "execution_count": null,
   "metadata": {},
   "outputs": [],
   "source": [
    "def retrieveFile(objectID):\n",
    "    retrieveHeaders = {'X-Auth-Token': token,\"Content-type\": \"application/cdmi-container\"}\n",
    "    response = requests.get('https://lapp-xdc01.in2p3.fr/cdmi/cdmi_objectid/'+objectID, headers=retrieveHeaders, verify=False, stream=True)\n",
    "\n",
    "    if response.status_code == 200:\n",
    "        with open(objectID+\".simtel.gz\", 'wb') as f:\n",
    "            response.raw.decode_content = True\n",
    "            shutil.copyfileobj(response.raw, f)\n",
    "            resultBoxRetrieve.value=\"copy done\"\n",
    "            "
   ]
  },
  {
   "cell_type": "code",
   "execution_count": null,
   "metadata": {},
   "outputs": [],
   "source": [
    "def retrieveFiles(startRangeFilter,endRangeFilter):\n",
    "    i=0\n",
    "    jsonResponse=query(startRangeFilter,endRangeFilter)\n",
    "    for fileParameter in jsonResponse:\n",
    "        i=+1\n",
    "        resultBoxRetrieve.value='Downloading files '+str(i)+'....'\n",
    "        retrieveFile(fileParameter.get('value'))  \n"
   ]
  },
  {
   "cell_type": "code",
   "execution_count": 7,
   "metadata": {},
   "outputs": [
    {
     "data": {
      "application/vnd.jupyter.widget-view+json": {
       "model_id": "2a0b9b8ad5464399b3d3fc5fb8eb64a5",
       "version_major": 2,
       "version_minor": 0
      },
      "text/plain": [
       "interactive(children=(Checkbox(value=False, description='Time'), IntRangeSlider(value=(1467287500, 1467362500)…"
      ]
     },
     "metadata": {},
     "output_type": "display_data"
    },
    {
     "data": {
      "application/vnd.jupyter.widget-view+json": {
       "model_id": "cdb28d48a3c04773a12f35c296d2ab14",
       "version_major": 2,
       "version_minor": 0
      },
      "text/plain": [
       "Button(description='send query', style=ButtonStyle())"
      ]
     },
     "metadata": {},
     "output_type": "display_data"
    },
    {
     "data": {
      "application/vnd.jupyter.widget-view+json": {
       "model_id": "7ce7bb745f344e3bbd496713f9500a9b",
       "version_major": 2,
       "version_minor": 0
      },
      "text/plain": [
       "Text(value='', disabled=True)"
      ]
     },
     "metadata": {},
     "output_type": "display_data"
    },
    {
     "data": {
      "application/vnd.jupyter.widget-view+json": {
       "model_id": "8793e19f829b4ad29223004505a86a4c",
       "version_major": 2,
       "version_minor": 0
      },
      "text/plain": [
       "Button(description='execute retreive', style=ButtonStyle())"
      ]
     },
     "metadata": {},
     "output_type": "display_data"
    },
    {
     "data": {
      "application/vnd.jupyter.widget-view+json": {
       "model_id": "371a6c7e08934e03a2d3ab55832984dd",
       "version_major": 2,
       "version_minor": 0
      },
      "text/plain": [
       "Text(value='', disabled=True)"
      ]
     },
     "metadata": {},
     "output_type": "display_data"
    }
   ],
   "source": [
    "layoutSliders=Layout(width='70%', height='80px')\n",
    "timeBoolean=widgets.Checkbox(value=False,description='Time')\n",
    "time=widgets.IntRangeSlider(min=1467250000,max=1467400000,step=100,description=' ', layout=layoutSliders)\n",
    "simtel_versionBoolean=widgets.Checkbox(value=False,description='Simtel version')\n",
    "simtel_version=widgets.IntRangeSlider(min=1460000000,max=1467300000,step=100,description=' ', layout=layoutSliders)\n",
    "run_idBoolean=widgets.Checkbox(value=False,description='Run ID')\n",
    "run_id=widgets.IntRangeSlider(min=0,max=10000,step=1,description=' ', layout=layoutSliders)\n",
    "pointing_direction_azBoolean=widgets.Checkbox(value=False,description='Pointing direction alt')\n",
    "pointing_direction_az=widgets.FloatRangeSlider(min=0,max= 6.3,step=0.00000001,description=' ', layout=layoutSliders)\n",
    "pointing_direction_altBoolean=widgets.Checkbox(value=False,description='Pointing direction az')\n",
    "pointing_direction_alt=widgets.FloatRangeSlider(min=0,max= 2,step=0.00000001,description=' ', layout=layoutSliders)\n",
    "particle_typeBoolean=widgets.Checkbox(value=False,description='Particle type')\n",
    "particle_type=widgets.Dropdown(options=['0', '1', '2'],description=' ')\n",
    "buttonQuery = widgets.Button(description=\"send query\")\n",
    "buttonRetreive = widgets.Button(description=\"execute retreive\")\n",
    "\n",
    "\n",
    "\n",
    "def updateField(timeBooleanValue, timeValue, simtel_versionBooleanValue, simtel_versionValue, run_idBooleanValue, run_idValue, pointing_direction_azBooleanValue, pointing_direction_azValue, pointing_direction_altBooleanValue, pointing_direction_altValue, particle_typeBooleanValue, particle_typeValue):\n",
    "    time.disabled=(not timeBooleanValue)\n",
    "    simtel_version.disabled=(not simtel_versionBooleanValue)\n",
    "    run_id.disabled=(not run_idBooleanValue)\n",
    "    pointing_direction_az.disabled=(not pointing_direction_azBooleanValue)\n",
    "    pointing_direction_alt.disabled=(not pointing_direction_altBooleanValue)\n",
    "    particle_type.disabled=(not particle_typeBooleanValue)\n",
    "    return \n",
    "\n",
    "def getRangeStart():\n",
    "    startRangeFilter=\"[\"+str(time.value[0] if not time.disabled else \"null\")+\",\"+str(simtel_version.value[0] if not simtel_version.disabled else \"null\")+\",\"+str(run_id.value[0] if not run_id.disabled else \"null\")+\",\"+str(pointing_direction_az.value[0] if not pointing_direction_az.disabled else \"null\")+\",\"+str(pointing_direction_alt.value[0] if not pointing_direction_alt.disabled else \"null\")+\",\"+str(particle_type.value if not particle_type.disabled else \"null\")+\"]\"\n",
    "    #print(\"startRangeFilter\"+startRangeFilter)\n",
    "    return startRangeFilter\n",
    "\n",
    "def getRangeEnd():\n",
    "    endRangeFilter=\"[\"+str(time.value[1] if not time.disabled else \"null\")+\",\"+str(simtel_version.value[1] if not simtel_version.disabled else \"null\")+\",\"+str(run_id.value[1] if not run_id.disabled else \"null\")+\",\"+str(pointing_direction_az.value[1] if not pointing_direction_az.disabled else \"null\")+\",\"+str(pointing_direction_alt.value[1] if not pointing_direction_alt.disabled else \"null\")+\",\"+str(particle_type.value if not particle_type.disabled else \"null\")+\"]\"\n",
    "    #print(\"endRangeFilter\"+endRangeFilter)\n",
    "    return endRangeFilter\n",
    "\n",
    "def on_button_clicked_query(b):\n",
    "    query(getRangeStart(),getRangeEnd())\n",
    "    \n",
    "def on_button_clicked_retreive(b):\n",
    "    retrieveFiles(getRangeStart(),getRangeEnd())\n",
    "    \n",
    "\n",
    "    \n",
    "buttonRetreive.on_click(on_button_clicked_retreive)    \n",
    "buttonQuery.on_click(on_button_clicked_query)\n",
    "interact(updateField,timeBooleanValue=timeBoolean, timeValue=time, simtel_versionBooleanValue=simtel_versionBoolean, simtel_versionValue=simtel_version, run_idBooleanValue=run_idBoolean, run_idValue=run_id, pointing_direction_azBooleanValue=pointing_direction_azBoolean, pointing_direction_azValue=pointing_direction_az ,  pointing_direction_altBooleanValue=pointing_direction_altBoolean, pointing_direction_altValue=pointing_direction_alt, particle_typeBooleanValue=particle_typeBoolean, particle_typeValue=particle_type);\n",
    "display(buttonQuery)\n",
    "display(resultBoxQuery)\n",
    "display(buttonRetreive)\n",
    "display(resultBoxRetrieve)\n",
    "\n"
   ]
  },
  {
   "cell_type": "code",
   "execution_count": null,
   "metadata": {},
   "outputs": [],
   "source": [
    "\n",
    "\n",
    "\n"
   ]
  },
  {
   "cell_type": "code",
   "execution_count": null,
   "metadata": {},
   "outputs": [],
   "source": []
  },
  {
   "cell_type": "code",
   "execution_count": null,
   "metadata": {},
   "outputs": [],
   "source": []
  },
  {
   "cell_type": "code",
   "execution_count": null,
   "metadata": {},
   "outputs": [],
   "source": []
  },
  {
   "cell_type": "code",
   "execution_count": null,
   "metadata": {},
   "outputs": [],
   "source": []
  },
  {
   "cell_type": "code",
   "execution_count": null,
   "metadata": {},
   "outputs": [],
   "source": []
  }
 ],
 "metadata": {
  "kernelspec": {
   "display_name": "Python 3",
   "language": "python",
   "name": "python3"
  },
  "language_info": {
   "codemirror_mode": {
    "name": "ipython",
    "version": 3
   },
   "file_extension": ".py",
   "mimetype": "text/x-python",
   "name": "python",
   "nbconvert_exporter": "python",
   "pygments_lexer": "ipython3",
   "version": "3.6.8"
  }
 },
 "nbformat": 4,
 "nbformat_minor": 2
}
